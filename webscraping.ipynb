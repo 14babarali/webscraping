{
 "cells": [
  {
   "cell_type": "markdown",
   "metadata": {},
   "source": [
    "install Important Library"
   ]
  },
  {
   "cell_type": "code",
   "execution_count": null,
   "metadata": {},
   "outputs": [],
   "source": [
    "pip install beautifulsoup4 requests pandas openpyxl"
   ]
  },
  {
   "cell_type": "markdown",
   "metadata": {},
   "source": [
    "Importing Important Library"
   ]
  },
  {
   "cell_type": "code",
   "execution_count": null,
   "metadata": {},
   "outputs": [],
   "source": [
    "import pandas as pd \n",
    "import numpy as np \n",
    "import matplotlib.pyplot as plt \n",
    "import seaborn as sns "
   ]
  },
  {
   "cell_type": "markdown",
   "metadata": {},
   "source": [
    "# AirAsia Reviews Scraper\n",
    "\n",
    "This Python script scrapes passenger reviews from AirAsia Malaysia's page on airlineratings.com.\n",
    "\n",
    "## Imports\n"
   ]
  },
  {
   "cell_type": "markdown",
   "metadata": {},
   "source": [
    "\n",
    "## Main Function\n",
    "\n",
    "### `scrape_airasia_reviews(max_pages=5)`\n",
    "\n",
    "This function is responsible for scraping reviews from multiple pages of the AirAsia Malaysia reviews section.\n",
    "\n"
   ]
  },
  {
   "cell_type": "code",
   "execution_count": null,
   "metadata": {},
   "outputs": [],
   "source": [
    "from bs4 import BeautifulSoup\n",
    "import requests\n",
    "import pandas as pd\n",
    "\n",
    "def scrape_airasia_reviews(max_pages=5):\n",
    "    base_url = 'https://www.airlineratings.com/passenger-reviews/airasia-malaysia/'\n",
    "    headers = {\n",
    "        \"User-Agent\": \"Mozilla/5.0 (Windows NT 10.0; Win64; x64) AppleWebKit/537.36 (KHTML, like Gecko) Chrome/58.0.3029.110 Safari/537.3\"\n",
    "    }\n",
    "    all_reviews = []\n",
    "\n",
    "    for page in range(1, max_pages + 1):\n",
    "        url = f\"{base_url}?page={page}\"\n",
    "        response = requests.get(url, headers=headers)\n",
    "        soup = BeautifulSoup(response.text, 'html.parser')\n",
    "\n",
    "        reviews_container = soup.select_one('.td-post-content')\n",
    "        if reviews_container:\n",
    "            reviews = reviews_container.select('.passenger_review')\n",
    "            for review in reviews:\n",
    "                customer_name = review.select_one('h3').text.strip() if review.select_one('h3') else \"Unknown\"\n",
    "\n",
    "                flight_details = [detail.text.strip() for detail in review.select('.cabin_flown ~ p')]\n",
    "\n",
    "                flight_type = ', '.join(flight_details[:-1])  # Join all except the last one\n",
    "\n",
    "                location_date = review.select_one('.review_date').text.strip() if review.select_one('.review_date') else \"Unknown\"\n",
    "\n",
    "                overall_score = review.select_one('.ten_star_rating.rating').text if review.select_one('.ten_star_rating.rating') else \"N/A\"\n",
    "\n",
    "                rating_h4s = review.select('.passenger_rating_overall h4')\n",
    "                rating_texts = [h4.text.strip() for h4 in rating_h4s]\n",
    "\n",
    "                review_text = review.select_one('.passenger_review_body').text.strip() if review.select_one('.passenger_review_body') else \"No review text available\"\n",
    "\n",
    "                all_reviews.append({\n",
    "                    \"Customer Name\": customer_name,\n",
    "                    \"Flight Type\": flight_type,\n",
    "                    \"Location/Date\": location_date,\n",
    "                    \"Overall Score\": overall_score,\n",
    "                    \"Rating Categories\": rating_texts,\n",
    "                    \"Review Text\": review_text\n",
    "                })\n",
    "\n",
    "                print(f\"Extracted Review Details: {customer_name}, {flight_type}, {location_date}, {overall_score}, {rating_texts}, {review_text}\")\n",
    "\n",
    "        next_button = soup.select_one('.ar_button')\n",
    "        if not next_button:\n",
    "            print(\"No next button found, moving to the next iteration.\")\n",
    "        else:\n",
    "            print(\"Next button found, continuing to the next page.\")\n",
    "\n",
    "        print(\"-\" * 50)\n",
    "\n",
    "    df = pd.DataFrame(all_reviews)\n",
    "    df.to_excel('airasia_reviews_details.xlsx', index=False)\n",
    "\n",
    "if __name__ == \"__main__\":\n",
    "    scrape_airasia_reviews()"
   ]
  }
 ],
 "metadata": {
  "language_info": {
   "name": "python"
  }
 },
 "nbformat": 4,
 "nbformat_minor": 2
}
